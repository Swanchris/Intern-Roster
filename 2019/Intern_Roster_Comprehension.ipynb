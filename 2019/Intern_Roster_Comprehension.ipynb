{
 "cells": [
  {
   "cell_type": "markdown",
   "metadata": {},
   "source": [
    "# Intern Roster"
   ]
  },
  {
   "cell_type": "markdown",
   "metadata": {},
   "source": [
    "## Introduction"
   ]
  },
  {
   "cell_type": "markdown",
   "metadata": {},
   "source": [
    "We have 11 interns. Let each intern be $i$.\n",
    "\n",
    "We have 13 rotations.  Let each rotation be $j$.  There are also three annual leave rotations.  Therefore the total is 16.\n",
    "\n",
    "We have 54 weeks for the whole period of the roster.  Let each week be $k$.\n"
   ]
  },
  {
   "cell_type": "markdown",
   "metadata": {},
   "source": [
    "## 1a: Summing Everything"
   ]
  },
  {
   "cell_type": "markdown",
   "metadata": {},
   "source": [
    "We could say that allocating each intern to a rotation (discluding leave) for a week can be expressed as:\n",
    "\n",
    "$$\\sum_{i=1}^{11} \\sum_{j=1}^{13} \\sum_{k=1}^{54} x_{ijk} = 1 $$"
   ]
  },
  {
   "cell_type": "markdown",
   "metadata": {},
   "source": [
    "There are a few problems with this model however.  Lets expand some of this equation and see what we find."
   ]
  },
  {
   "cell_type": "markdown",
   "metadata": {},
   "source": [
    "$x_{1,1,1} + \\cdots + x_{11,1,1} + x_{1,2,1} + \\cdots + x_{11,2,1} + x_{1,3,1} +\\cdots + x_{11,3,1} + \\cdots \\; \\cdots +  x_{1,1,2} + \\cdots + x_{11,1,2} + x_{1,2,2} +  \\cdots + x_{11,2,2} + \\cdots \\; \\cdots + x_{11,13,1} + \\cdots \\; \\cdots x_{11,13,54} = 1  $"
   ]
  },
  {
   "cell_type": "markdown",
   "metadata": {},
   "source": [
    "So this equation is wildly incorrect.  It is saying that for all interns for all rotations for all jobs there is only one instance where this can be true!"
   ]
  },
  {
   "cell_type": "markdown",
   "metadata": {},
   "source": [
    "## 1b: Piece by Piece"
   ]
  },
  {
   "cell_type": "markdown",
   "metadata": {},
   "source": [
    "So lets try to remedy it piece by piece.  Clearly we cannnot have just one long equation, we need a system of linear equations."
   ]
  },
  {
   "cell_type": "markdown",
   "metadata": {},
   "source": [
    "### i For all i, Sum j"
   ]
  },
  {
   "cell_type": "markdown",
   "metadata": {},
   "source": [
    "Let's start by just getting each intern into each rotation."
   ]
  },
  {
   "cell_type": "markdown",
   "metadata": {},
   "source": [
    "$$\\forall i \\sum_{j=1}^{13} x_{ij}= 1$$"
   ]
  },
  {
   "cell_type": "markdown",
   "metadata": {},
   "source": [
    "So, what does this mean?\n",
    "\n",
    "$x_{1,1} + x_{1,2} + \\cdots + x_{1,13} = 1 $\n",
    "\n",
    "$x_{2,1} + x_{2,2} + \\cdots + x_{2,13} = 1 $\n",
    "\n",
    "$ \\; \\vdots \\quad \\quad \\quad \\vdots \\quad \\quad \\quad \\vdots $\n",
    "\n",
    "$x_{11,1} + x_{11,2} + \\cdots + x_{11,13} = 1 $"
   ]
  },
  {
   "cell_type": "markdown",
   "metadata": {},
   "source": [
    "Now what does _this_ mean? \n",
    "\n",
    "It is saying that each intern will do one job exactly _once_.\n",
    "\n",
    "This might be useful later, if say, we had this for each week.  "
   ]
  },
  {
   "cell_type": "markdown",
   "metadata": {},
   "source": [
    "### ii For all j, Sum i"
   ]
  },
  {
   "cell_type": "markdown",
   "metadata": {},
   "source": [
    "Let's look at this system the other way around.\n",
    "\n",
    "$$\\forall j \\sum_{i=1}^{11} x_{ij}= 1$$"
   ]
  },
  {
   "cell_type": "markdown",
   "metadata": {},
   "source": [
    "$x_{1,1} + x_{2,1} + \\cdots + x_{11,1} = 1$\n",
    "\n",
    "$x_{1,2} + x_{2,2} + \\cdots + x_{11,2} = 1$\n",
    "\n",
    "$ \\; \\vdots \\quad \\quad \\quad \\vdots \\quad \\quad \\quad \\vdots $\n",
    "\n",
    "$x_{1,13} + x_{2,13} + \\cdots + x_{11,13} = 1$"
   ]
  },
  {
   "cell_type": "markdown",
   "metadata": {},
   "source": [
    "### iii For all j, Sum i = 11"
   ]
  },
  {
   "cell_type": "markdown",
   "metadata": {},
   "source": [
    "Now this system is saying the for each rotation, each intern will work it exactly once. \n"
   ]
  },
  {
   "cell_type": "markdown",
   "metadata": {},
   "source": [
    "But actually we want every intern to work each rotation.\n",
    "\n",
    "So we need the system:\n",
    "\n",
    "$$\\forall j \\sum_{i=1}^{11} x_{ij}= 11$$\n",
    "\n",
    "$x_{1,1} + x_{2,1} + \\cdots + x_{11,1} = 11$\n",
    "\n",
    "$x_{1,2} + x_{2,2} + \\cdots + x_{11,2} = 11$\n",
    "\n",
    "$ \\; \\vdots \\quad \\quad \\quad \\vdots \\quad \\quad \\quad \\vdots $\n",
    "\n",
    "$x_{1,13} + x_{2,13} + \\cdots + x_{11,13} = 11$"
   ]
  },
  {
   "cell_type": "markdown",
   "metadata": {},
   "source": [
    "Of course, the result for this would be a 11x13 matrix with a 1 for every value, were this the only constraint.\n",
    "\n",
    "________________________________________________________________________________________________________________________________"
   ]
  },
  {
   "cell_type": "markdown",
   "metadata": {},
   "source": [
    "## 2a: Constraints for Rotation Duration"
   ]
  },
  {
   "cell_type": "markdown",
   "metadata": {},
   "source": [
    "Ok, different approach.  We look at each rotations time.  We construct our constraints around this.   We will think about each rotation as having a cost.  We will then seek to minimise this cost."
   ]
  },
  {
   "cell_type": "markdown",
   "metadata": {},
   "source": [
    "$x_{1,1} = 8$       \n",
    "Intern 1 spends 8 weeks at Rotation 1\n",
    "\n",
    "$x_{1,2} = 4$       \n",
    "Intern 1 spends 4 weeks at Rotation 2\n",
    "\n",
    "$x_{1,3} = 4$   \n",
    "Intern 1 spends 3 weeks at Rotation 3\n",
    "\n",
    "$\\vdots$\n",
    "\n",
    "So how do we express this is in a compacted form?\n",
    "\n",
    "Let's look at Intern 2.\n",
    "\n",
    "$x_{2,1} = 8$       \n",
    "Intern 2 spends 8 weeks at Rotation 1\n",
    "\n",
    "$x_{2,2} = 4$       \n",
    "Intern 2 spends 4 weeks at Rotation 2\n",
    "\n",
    "$x_{2,3} = 4$   \n",
    "Intern 2 spends 3 weeks at Rotation 3\n",
    "\n",
    "So this is the same for all interns.\n"
   ]
  },
  {
   "cell_type": "markdown",
   "metadata": {},
   "source": [
    "$\\therefore$ We can express these at least as linear expressions."
   ]
  },
  {
   "cell_type": "markdown",
   "metadata": {},
   "source": [
    "Our rotation constraints are:\n",
    "\n",
    "$ \\forall i \\; x_{i1} = 8 \\; , \\quad (i = 1,2, \\cdots , 11) $ \n",
    "\n",
    "$ \\forall i \\; x_{i2} = 4 \\; , \\quad (i = 1,2, \\cdots , 11) $ \n",
    "\n",
    "$ \\forall i \\; x_{i3} = 4 \\; , \\quad (i = 1,2, \\cdots , 11) $ \n",
    "\n",
    "$ \\forall i \\; x_{i4} = 4 \\; , \\quad (i = 1,2, \\cdots , 11) $ \n",
    "\n",
    "$ \\forall i \\; x_{i5} = 2 \\; , \\quad (i = 1,2, \\cdots , 11) $ \n",
    "\n",
    "$ \\forall i \\; x_{i6} = 3 \\; , \\quad (i = 1,2, \\cdots , 11) $ \n",
    "\n",
    "$ \\forall i \\; x_{i7} = 3 \\; , \\quad (i = 1,2, \\cdots , 11) $ \n",
    "\n",
    "$ \\forall i \\; x_{i8} = 2 \\; , \\quad (i = 1,2, \\cdots , 11) $ \n",
    "\n",
    "$ \\forall i \\; x_{i9} = 4 \\; , \\quad (i = 1,2, \\cdots , 11) $ \n",
    "\n",
    "$ \\forall i \\; x_{i10} = 3 \\; , \\quad (i = 1,2, \\cdots , 11) $ \n",
    "\n",
    "$ \\forall i \\; x_{i11} = 5 \\; , \\quad (i = 1,2, \\cdots , 11) $ \n",
    "\n",
    "$ \\forall i \\; x_{i12} = 1 \\; , \\quad (i = 1,2, \\cdots , 11) $ \n",
    "\n",
    "$ \\forall i \\; x_{i13} = 1 \\; , \\quad (i = 1,2, \\cdots , 11) $ \n",
    "\n",
    "$ \\forall i \\; x_{i14} = 1 \\; , \\quad (i = 1,2, \\cdots , 11) $ \n",
    "\n",
    "$ \\forall i \\; x_{i15} = 1 \\; , \\quad (i = 1,2, \\cdots , 11) $ "
   ]
  },
  {
   "cell_type": "markdown",
   "metadata": {},
   "source": [
    "## 2b"
   ]
  },
  {
   "cell_type": "markdown",
   "metadata": {},
   "source": [
    "Actually, looking back, 1b-i looks quite pertinent, however it needs a constraint for each week.\n",
    "\n",
    "ie. For each week, each intern will do one job."
   ]
  },
  {
   "cell_type": "markdown",
   "metadata": {},
   "source": [
    "But maybe there is another way to look at it.  Vicky wrote on a sheet of paper some random notes about potential equations for this problem.  Lets have a look at some of these.\n",
    "\n",
    "________________________________________________________________________________________________________________________________"
   ]
  },
  {
   "cell_type": "markdown",
   "metadata": {},
   "source": [
    "## 3a: Vicky's notes"
   ]
  },
  {
   "cell_type": "markdown",
   "metadata": {},
   "source": [
    "Let $x_{jk}^i = 1$ if person $i$ starts job $j$ at time $k$.\n",
    "\n",
    "For the first time constraint, Vicky wrote:\n",
    "\n",
    "$$\\sum_{i}  x_{jk}^i = 2  \\quad  \\forall j  , \\; \\forall k$$\n",
    "This is for rotation 1 having two interns at a time I think.\n",
    "\n",
    "\n",
    "Now below that, we have something which i can't _quite_ understand but it looks damn useful.\n",
    "\n",
    "$$\\sum_{\\alpha = 1}^8 y_{jk + \\alpha}^i = 8 \\; \\text{  if  }\\; x_{jk}^i = 1$$\n",
    "\n",
    "Looks to be a way to define a time period for a rotation.  Very useful.\n",
    "\n",
    "There is a \"leave\" constraint defined:\n",
    "\n",
    "$$\\sum_i x_{jk}^i \\leq 11y_k$$\n",
    "\n",
    "And finally, what looks to be an objective function.\n",
    "\n",
    "$$ \\text{max} \\sum_i \\; \\sum_j \\; \\sum_k C_{ij}x_{jk}^i$$\n",
    "\n",
    "Oh actually one more that I'm not sure about:\n",
    "\n",
    "$$\\sum_k y_k = 1 \\quad \\text{where} \\quad y_k \\; \\text{is boolean.}$$\n"
   ]
  },
  {
   "cell_type": "markdown",
   "metadata": {},
   "source": [
    "So, like before, lets expand some of these equations so as to try to understand them."
   ]
  },
  {
   "cell_type": "markdown",
   "metadata": {},
   "source": [
    "## 3b: Rotation person capacity constraint"
   ]
  },
  {
   "cell_type": "markdown",
   "metadata": {},
   "source": [
    "$$\\sum_{i}  x_{1,k}^i \\leq 2  \\quad  \\; \\forall k$$"
   ]
  },
  {
   "cell_type": "markdown",
   "metadata": {},
   "source": [
    "$x_{1,1}^{(1)} + x_{1,1}^{(2)} + \\cdots + x_{1,1}^{(11)} \\leq 2$\n",
    "\n",
    "$x_{1,2}^{(1)} + x_{1,2}^{(2)} + \\cdots + x_{1,2}^{(11)} \\leq 2$\n",
    "\n",
    "$ \\quad \\vdots \\quad \\quad \\vdots \\quad \\quad \\quad \\vdots$\n",
    "\n",
    "$x_{1,54}^{(1)} + x_{1,54}^{(2)} + \\cdots + x_{1,54}^{(11)} \\leq 2$"
   ]
  },
  {
   "cell_type": "markdown",
   "metadata": {},
   "source": [
    "OK this is solid - for each week, the maximum number of interns in rotation 1 will be 2.\n",
    "\n",
    "So we can write this out for all Rotations."
   ]
  },
  {
   "cell_type": "markdown",
   "metadata": {},
   "source": [
    "$$\\sum_{i}  x_{1,k}^i \\leq 2  \\quad  \\; \\forall k$$\n",
    "$$\\sum_{i}  x_{2,k}^i \\leq 1  \\quad  \\; \\forall k$$\n",
    "$$\\sum_{i}  x_{3,k}^i \\leq 1  \\quad  \\; \\forall k$$\n",
    "$$\\sum_{i}  x_{4,k}^i \\leq 1  \\quad  \\; \\forall k$$\n",
    "$$\\sum_{i}  x_{5,k}^i \\leq 1  \\quad  \\; \\forall k$$\n",
    "$$\\sum_{i}  x_{6,k}^i \\leq 1  \\quad  \\; \\forall k$$\n",
    "$$\\sum_{i}  x_{7,k}^i \\geq 0  \\quad  \\; \\forall k$$\n",
    "$$\\sum_{i}  x_{8,k}^i \\geq 0  \\quad  \\; \\forall k$$\n",
    "$$\\sum_{i}  x_{9,k}^i \\leq 2  \\quad  \\; \\forall k$$\n",
    "$$\\sum_{i}  x_{10,k}^i \\geq 0  \\quad  \\; \\forall k$$\n",
    "$$\\sum_{i}  x_{11,k}^i \\geq 0  \\quad  \\; \\forall k$$\n",
    "$$\\sum_{i}  x_{12,k}^i \\leq 1  \\quad  \\; \\forall k$$\n",
    "$$\\sum_{i}  x_{13,k}^i \\leq 1  \\quad  \\; \\forall k$$\n",
    "$$\\sum_{i}  x_{14,k}^i = 11  \\quad  \\; \\forall k$$\n",
    "$$\\sum_{i=1}^6  x_{15,k}^i = 6  \\quad  \\; \\forall k$$\n",
    "$$\\sum_{i=7}^{11}  x_{16,k}^i = 5  \\quad  \\; \\forall k$$"
   ]
  },
  {
   "cell_type": "markdown",
   "metadata": {},
   "source": [
    "And we have our constraints for rotation capacity."
   ]
  },
  {
   "cell_type": "markdown",
   "metadata": {},
   "source": [
    "## 3c: Rotation Duration Constraint"
   ]
  },
  {
   "cell_type": "markdown",
   "metadata": {},
   "source": [
    "$$\\sum_{\\alpha = 1}^8 y_{j,k + \\alpha}^i = 8 \\; \\text{  if  }\\; x_{jk}^i = 1$$"
   ]
  },
  {
   "cell_type": "markdown",
   "metadata": {},
   "source": [
    "Here, Vicky has not specificed whether we should sum over i, j or k.  I am thinking this is our duration constraint.\n",
    "\n",
    "Lets expand it out and see what illuminates."
   ]
  },
  {
   "cell_type": "markdown",
   "metadata": {},
   "source": [
    "$y_{j,k + 1}^i + y_{j,k + 2}^i + \\cdots + y_{j,k + 8}^i = 8 \\quad$ if $\\quad x_{jk}^i = 1$\n",
    "\n"
   ]
  },
  {
   "cell_type": "markdown",
   "metadata": {},
   "source": [
    "So say, for instance, that we have $x_{1,1}^1 = 1$\n",
    "\n",
    "$y_{1,2}^1 + y_{1,3}^1 + \\cdots + y_{1,9}^1 = 8$"
   ]
  },
  {
   "cell_type": "markdown",
   "metadata": {},
   "source": [
    "This is saying that when an intern in rostered at a location for a week, for the follow 8 weeks they are also rostered there.\n",
    "\n",
    "This is pertinent, but not exactly correct. \n",
    "\n",
    "A few issues to correct.\n",
    "\n",
    "The first is that alpha should start at 0 and go to 7 if we have a goal of 8 weeks, as k will have a value already, being the first week of that rotation.\n",
    "\n",
    "_The second is we need to link x and y back together somehow, so that values for k do not ascribed multiple times._\n",
    "\n",
    "The third is that the equations will differ for each rotation.  But we can develop that system immediately."
   ]
  },
  {
   "cell_type": "markdown",
   "metadata": {},
   "source": [
    "$$\\sum_{\\alpha = 0}^7 y_{1,k + \\alpha}^i = 8 \\; \\text{  if  }\\; x_{1,k}^i = 1$$\n",
    "\n",
    "$$\\sum_{\\alpha = 0}^3 y_{2,k + \\alpha}^i = 4 \\; \\text{  if  }\\; x_{2,k}^i = 1$$\n",
    "\n",
    "$$\\sum_{\\alpha = 0}^3 y_{3,k + \\alpha}^i = 4 \\; \\text{  if  }\\; x_{3,k}^i = 1$$\n",
    "\n",
    "$$\\sum_{\\alpha = 0}^3 y_{4,k + \\alpha}^i = 4 \\; \\text{  if  }\\; x_{4,k}^i = 1$$\n",
    "\n",
    "$$\\sum_{\\alpha = 0}^1 y_{5,k + \\alpha}^i = 2 \\; \\text{  if  }\\; x_{5,k}^i = 1$$\n",
    "\n",
    "$$\\sum_{\\alpha = 0}^2 y_{6,k + \\alpha}^i = 3 \\; \\text{  if  }\\; x_{6,k}^i = 1$$\n",
    "\n",
    "$$\\sum_{\\alpha = 0}^2 y_{7,k + \\alpha}^i = 3 \\; \\text{  if  }\\; x_{7,k}^i = 1$$\n",
    "\n",
    "$$\\sum_{\\alpha = 0}^1 y_{8,k + \\alpha}^i = 2 \\; \\text{  if  }\\; x_{8,k}^i = 1$$\n",
    "\n",
    "$$\\sum_{\\alpha = 0}^3 y_{9,k + \\alpha}^i = 4 \\; \\text{  if  }\\; x_{9,k}^i = 1$$\n",
    "\n",
    "$$\\sum_{\\alpha = 0}^2 y_{10,k + \\alpha}^i = 3 \\; \\text{  if  }\\; x_{10,k}^i = 1$$\n",
    "\n",
    "$$\\sum_{\\alpha = 0}^4 y_{11,k + \\alpha}^i = 5 \\; \\text{  if  }\\; x_{11,k}^i = 1$$\n",
    "\n",
    "$$ y_{12,k}^i = 1 \\; \\text{  if  }\\; x_{12,k}^i = 1$$\n",
    "\n",
    "$$ y_{13,k}^i = 1 \\; \\text{  if  }\\; x_{13,k}^i = 1$$\n",
    "\n",
    "$$ y_{14,k}^i = 1 \\; \\text{  if  }\\; x_{14,k}^i = 1$$\n",
    "\n",
    "$$ y_{15,k}^i = 1 \\; \\text{  if  }\\; x_{15,k}^i = 1$$\n",
    "\n",
    "$$ y_{16,k}^i = 1 \\; \\text{  if  }\\; x_{16,k}^i = 1$$"
   ]
  },
  {
   "cell_type": "markdown",
   "metadata": {},
   "source": [
    "We'll leave connected x and y for now and continue in our pursuit of understanding Vicky's equations."
   ]
  },
  {
   "cell_type": "markdown",
   "metadata": {},
   "source": [
    "## 3d: Leave Constraint"
   ]
  },
  {
   "cell_type": "markdown",
   "metadata": {},
   "source": [
    "### experimentation"
   ]
  },
  {
   "cell_type": "markdown",
   "metadata": {},
   "source": [
    "$$\\sum_i x_{jk}^i \\leq 11y_k$$"
   ]
  },
  {
   "cell_type": "markdown",
   "metadata": {},
   "source": [
    "If this is indeed the leave constraint, the we know what our $j$ values will be.  This may also be our method of connecting x and y."
   ]
  },
  {
   "cell_type": "markdown",
   "metadata": {},
   "source": [
    "$x_{14,k}^1 + x_{14,k}^2 + \\cdots + x_{14,k}^{11} \\leq 11y_k$\n",
    "\n",
    "$x_{15,k}^1 + x_{15,k}^2 + \\cdots + x_{15,k}^{11} \\leq 6y_k$\n",
    "\n",
    "$x_{16,k}^1 + x_{16,k}^2 + \\cdots + x_{16,k}^{11} \\leq 5y_k$"
   ]
  },
  {
   "cell_type": "markdown",
   "metadata": {},
   "source": [
    "But is the constant of $y_k$ correct?"
   ]
  },
  {
   "cell_type": "markdown",
   "metadata": {},
   "source": [
    "It would seem we have neglected this part of the constraint:\n",
    "\n",
    "$$\\sum_k y_k = 1 \\quad \\text{where} \\quad y_k \\; \\text{is boolean.}$$\n",
    "\n"
   ]
  },
  {
   "cell_type": "markdown",
   "metadata": {},
   "source": [
    "That's a bit more sensical.  But clearly here, $y$ is different to the $y$ is the duration constraint.  So we rename it $z$."
   ]
  },
  {
   "cell_type": "markdown",
   "metadata": {},
   "source": [
    "Let's rewrite all this with this in mind."
   ]
  },
  {
   "cell_type": "markdown",
   "metadata": {},
   "source": [
    "### revised"
   ]
  },
  {
   "cell_type": "markdown",
   "metadata": {},
   "source": [
    "$$\\sum_i x_{jk}^i = (K)z_k \\quad \\text{if} \\quad \\sum_k z_k =1$$"
   ]
  },
  {
   "cell_type": "markdown",
   "metadata": {},
   "source": [
    "$x_{14,k}^1 + x_{14,k}^2 + \\cdots + x_{14,k}^{11} = 11z_k$\n",
    "\n",
    "$x_{15,k}^1 + x_{15,k}^2 + \\cdots + x_{15,k}^{11} = 6z_k$\n",
    "\n",
    "$x_{16,k}^1 + x_{16,k}^2 + \\cdots + x_{16,k}^{11} = 5z_k$"
   ]
  },
  {
   "cell_type": "markdown",
   "metadata": {},
   "source": [
    "Hmmmmmm.\n",
    "\n",
    "So if we have leave  for everyone on week 1:\n",
    "\n",
    "$x_{14,1}^1 + x_{14,1}^2 + \\cdots + x_{14,1}^{11} = 11z_1 $\n",
    "\n"
   ]
  },
  {
   "cell_type": "markdown",
   "metadata": {},
   "source": [
    "Ok, this will leave us with a system of three equations."
   ]
  },
  {
   "cell_type": "markdown",
   "metadata": {},
   "source": [
    "$$\\sum_i x_{14,k}^i = 11z_k \\quad \\text{if} \\quad \\sum_k z_k =1$$\n",
    "\n",
    "$$\\sum_i x_{15,k}^i = 6z_k \\quad \\text{if} \\quad \\sum_k z_k =1$$\n",
    "\n",
    "$$\\sum_i x_{16,k}^i = 5z_k \\quad \\text{if} \\quad \\sum_k z_k =1$$"
   ]
  },
  {
   "cell_type": "markdown",
   "metadata": {},
   "source": [
    "## 3e: "
   ]
  },
  {
   "cell_type": "markdown",
   "metadata": {},
   "source": [
    "$$ \\text{max} \\sum_i \\; \\sum_j \\; \\sum_k C_{ij}x_{jk}^i$$"
   ]
  },
  {
   "cell_type": "markdown",
   "metadata": {},
   "source": [
    "Whats up with that $C$?\n",
    "\n",
    "Same approach, let's right it out and see if we can obtain some meaning."
   ]
  },
  {
   "cell_type": "markdown",
   "metadata": {},
   "source": [
    "maximise $\\quad C_{1,1} x_{1,1}^{1} + C_{1,1}x_{1,2}^1 + \\cdots + C_{1,1}x_{1,54}^1 + C_{1,2}x_{2,1}^1 + \\cdots + C_{1,2} x_{2,54}^{1} + \\cdots C_{1,16} x_{16,54}^{1} + C_{2,1} x_{1,1}^{2} + \\cdots + C_{11,16} x_{16,54}^{11}$"
   ]
  },
  {
   "cell_type": "markdown",
   "metadata": {},
   "source": [
    "Alright - evidently, $C_{ij}$ is a way of ensuring every intern gets a rotation - maximising...what?"
   ]
  },
  {
   "cell_type": "code",
   "execution_count": null,
   "metadata": {},
   "outputs": [],
   "source": []
  }
 ],
 "metadata": {
  "kernelspec": {
   "display_name": "Python 3",
   "language": "python",
   "name": "python3"
  },
  "language_info": {
   "codemirror_mode": {
    "name": "ipython",
    "version": 3
   },
   "file_extension": ".py",
   "mimetype": "text/x-python",
   "name": "python",
   "nbconvert_exporter": "python",
   "pygments_lexer": "ipython3",
   "version": "3.6.5"
  }
 },
 "nbformat": 4,
 "nbformat_minor": 2
}
